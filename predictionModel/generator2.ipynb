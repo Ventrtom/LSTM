{
 "cells": [
  {
   "cell_type": "code",
   "execution_count": 8,
   "metadata": {},
   "outputs": [],
   "source": [
    "from datetime import datetime, timedelta\n",
    "import random\n",
    "import numpy as np\n",
    "import csv"
   ]
  },
  {
   "cell_type": "code",
   "execution_count": 9,
   "metadata": {},
   "outputs": [],
   "source": [
    "def generate_time_series_data():\n",
    "    data = []\n",
    "    start_date = datetime(2023, 1, 1)\n",
    "\n",
    "    for i in range(1000):\n",
    "        current_date = start_date + timedelta(days=i)\n",
    "        day_of_week = current_date.weekday()  # Zjistíme den v týdnu (0 = pondělí, 1 = úterý, ..., 6 = neděle)\n",
    "\n",
    "        # Určení pravděpodobnosti poruchy v závislosti na dni v týdnu\n",
    "        if day_of_week == 2:  # Středa\n",
    "            fault_prob = max(np.random.normal(0.5, 0.2), 0)  # Nejvíce poruch ve středu\n",
    "        else:\n",
    "            fault_prob = max(np.random.normal(0.2, 0.1), 0)  # Ostatní dny\n",
    "\n",
    "        # Normalizace pravděpodobností, aby sumovaly do 1\n",
    "        total_prob = 1.0 / (1 + fault_prob)\n",
    "        probabilities = [1 - fault_prob * total_prob, fault_prob * total_prob / 3, fault_prob * total_prob / 3, fault_prob * total_prob / 3]\n",
    "\n",
    "        # Náhodný výběr, zda v daný den vznikne porucha\n",
    "        fault = int(np.random.choice([0, 1, 2, 3], p=probabilities))\n",
    "\n",
    "        data.append([current_date.strftime('%Y-%m-%d'), day_of_week, fault])\n",
    "\n",
    "    return data"
   ]
  },
  {
   "cell_type": "code",
   "execution_count": 10,
   "metadata": {},
   "outputs": [],
   "source": [
    "def write_to_csv(data, file_path='test_data.csv'):\n",
    "    with open(file_path, mode='w', newline='') as file:\n",
    "        writer = csv.writer(file)\n",
    "        # Zápis hlavičky\n",
    "        writer.writerow(['Datum', 'Den_v_tydnu', 'Porucha'])\n",
    "        # Zápis dat\n",
    "        writer.writerows(data)"
   ]
  },
  {
   "cell_type": "code",
   "execution_count": 11,
   "metadata": {},
   "outputs": [],
   "source": [
    "test_data = generate_time_series_data()\n",
    "write_to_csv(test_data)"
   ]
  }
 ],
 "metadata": {
  "kernelspec": {
   "display_name": "Python 3",
   "language": "python",
   "name": "python3"
  },
  "language_info": {
   "codemirror_mode": {
    "name": "ipython",
    "version": 3
   },
   "file_extension": ".py",
   "mimetype": "text/x-python",
   "name": "python",
   "nbconvert_exporter": "python",
   "pygments_lexer": "ipython3",
   "version": "3.11.3"
  }
 },
 "nbformat": 4,
 "nbformat_minor": 2
}
